{
 "cells": [
  {
   "cell_type": "code",
   "execution_count": 1,
   "id": "ecde43c2",
   "metadata": {},
   "outputs": [
    {
     "name": "stdout",
     "output_type": "stream",
     "text": [
      "Input string: Hello, World!\n",
      "MD5 hash: 65a8e27d8879283831b664bd8b7f0ad4\n"
     ]
    }
   ],
   "source": [
    "import hashlib\n",
    "\n",
    "def generate_md5(input_string):\n",
    "    \"\"\"\n",
    "    Generate MD5 hash of the input string\n",
    "    \n",
    "    Args:\n",
    "        input_string (str): String to be hashed\n",
    "        \n",
    "    Returns:\n",
    "        str: MD5 hash in hexadecimal format\n",
    "    \"\"\"\n",
    "    # Create an MD5 hash object\n",
    "    md5_hash = hashlib.md5()\n",
    "    \n",
    "    # Update the hash object with the bytes of the string (must be encoded)\n",
    "    md5_hash.update(input_string.encode('utf-8'))\n",
    "    \n",
    "    # Get the hexadecimal digest of the hash\n",
    "    return md5_hash.hexdigest()\n",
    "\n",
    "# Example usage\n",
    "if __name__ == \"__main__\":\n",
    "    input_string = \"Hello, World!\"\n",
    "    md5_digest = generate_md5(input_string)\n",
    "    \n",
    "    print(f\"Input string: {input_string}\")\n",
    "    print(f\"MD5 hash: {md5_digest}\")"
   ]
  }
 ],
 "metadata": {
  "kernelspec": {
   "display_name": "Python 3",
   "language": "python",
   "name": "python3"
  },
  "language_info": {
   "codemirror_mode": {
    "name": "ipython",
    "version": 3
   },
   "file_extension": ".py",
   "mimetype": "text/x-python",
   "name": "python",
   "nbconvert_exporter": "python",
   "pygments_lexer": "ipython3",
   "version": "3.10.0"
  }
 },
 "nbformat": 4,
 "nbformat_minor": 5
}
